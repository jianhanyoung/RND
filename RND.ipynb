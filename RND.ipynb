{
 "cells": [
  {
   "cell_type": "code",
   "execution_count": 1,
   "metadata": {},
   "outputs": [],
   "source": [
    "%matplotlib inline\n",
    "import pandas as pd\n",
    "import numpy as np\n",
    "import seaborn as sns\n",
    "import matplotlib.pyplot as plt\n",
    "from scipy.stats import norm"
   ]
  },
  {
   "cell_type": "code",
   "execution_count": 2,
   "metadata": {},
   "outputs": [],
   "source": [
    "import warnings\n",
    "warnings.filterwarnings(\"ignore\")"
   ]
  },
  {
   "cell_type": "code",
   "execution_count": 3,
   "metadata": {},
   "outputs": [],
   "source": [
    "red, blue = ['#FF0054', '#146EE8']"
   ]
  },
  {
   "cell_type": "code",
   "execution_count": 4,
   "metadata": {},
   "outputs": [],
   "source": [
    "df= pd.read_csv(r'C:\\Users\\Lenovo\\Desktop\\31666.csv', encoding = 'ISO-8859-1')"
   ]
  },
  {
   "cell_type": "markdown",
   "metadata": {},
   "source": [
    "# Implied Volatility"
   ]
  },
  {
   "cell_type": "markdown",
   "metadata": {},
   "source": [
    "# Black-Scholes-Merton formula"
   ]
  },
  {
   "cell_type": "code",
   "execution_count": 5,
   "metadata": {},
   "outputs": [],
   "source": [
    "def call_price(S, K, tau, sigma, r, q):\n",
    "    '''tau: days to expiration'''\n",
    "    d1 = ( np.log(S/(K*np.exp(-r*tau/365))) + \n",
    "          (r - q + (sigma**2)/2)*tau/365 )/ (sigma * np.sqrt(tau/365))\n",
    "    d2 = d1 - sigma* np.sqrt(tau/365)\n",
    "    print(norm.cdf(d1))\n",
    "    print(norm.cdf(d2))\n",
    "    return (S*np.exp(-q*tau/365)*norm.cdf(d1) - K*np.exp(-r*tau/365)*norm.cdf(d2))"
   ]
  },
  {
   "cell_type": "code",
   "execution_count": 6,
   "metadata": {
    "scrolled": true
   },
   "outputs": [
    {
     "name": "stdout",
     "output_type": "stream",
     "text": [
      "[0.99955084 0.87914643 0.83280848 0.99887917 0.86227796 0.81792276\n",
      " 0.99871246 0.99742061 0.8442423  0.80254719 0.930668   0.99711923\n",
      " 0.99449908 0.82510078 0.78672602 0.91207283 0.99391921 0.98907847\n",
      " 0.80492734 0.77050493 0.89043655 0.98819603 0.80244111 0.97972541\n",
      " 0.78380695 0.75393051 0.86571579 0.97850763 0.78164639 0.96466166\n",
      " 0.76183388 0.73704983 0.83795424 0.96315153 0.7600422  0.94193724\n",
      " 0.73910979 0.71990995 0.80728453 0.94028848 0.73772478 0.90972322\n",
      " 0.7157419  0.70255758 0.77392528 0.90745563 0.71432176 0.8666789\n",
      " 0.6918411  0.68503871 0.73817344 0.86472137 0.69087558 0.81230983\n",
      " 0.66752017 0.66739825 0.70039269 0.74721809 0.64289207 0.67316526\n",
      " 0.61806838 0.63192545 0.62044332 0.59456052 0.59365625 0.50989288\n",
      " 0.56826533 0.59646807 0.53772753 0.43255884 0.54497187 0.3497389\n",
      " 0.5189269  0.56132441 0.45592609 0.28540753 0.49707257 0.21634818\n",
      " 0.47077512 0.52675847 0.378287   0.16947236 0.45012548 0.12068038\n",
      " 0.42441864]\n",
      "[0.99941414 0.82214399 0.73335392 0.99856483 0.80051079 0.7140116\n",
      " 0.99835615 0.99675605 0.77782955 0.6944206  0.90840231 0.99638598\n",
      " 0.99320152 0.75421582 0.6746457  0.88567167 0.99250289 0.98672885\n",
      " 0.72979397 0.65474981 0.85971708 0.98568516 0.72681519 0.97576409\n",
      " 0.70469464 0.63479346 0.83060566 0.97434968 0.7021526  0.95842081\n",
      " 0.67905224 0.61483448 0.79850153 0.95669782 0.67698145 0.93271798\n",
      " 0.65300254 0.59492764 0.76366119 0.93086948 0.65142956 0.89691201\n",
      " 0.62668049 0.57512445 0.72642374 0.89441351 0.62509541 0.84988178\n",
      " 0.60021819 0.55547293 0.6871969  0.84776108 0.5991586  0.79147169\n",
      " 0.57374311 0.53601754 0.64643982 0.72269259 0.54737663 0.64571168\n",
      " 0.52123272 0.49785475 0.56231507 0.56528805 0.49592948 0.48002069\n",
      " 0.47002607 0.46091887 0.47803194 0.40331911 0.44662368 0.32242533\n",
      " 0.4208563  0.42543569 0.39723654 0.26051663 0.39955391 0.19503569\n",
      " 0.37430019 0.39157716 0.32283464 0.15123421 0.35475725 0.10629149\n",
      " 0.33077794]\n"
     ]
    }
   ],
   "source": [
    "dfc = df[df['cp_flag']=='C']\n",
    "dfc['bsm_price'] = call_price(dfc['S'], dfc['K'],\n",
    "                              dfc['days_to_expiration'], dfc['impl_volatility'],\n",
    "                             dfc['r'], dfc['q'])"
   ]
  },
  {
   "cell_type": "code",
   "execution_count": 7,
   "metadata": {},
   "outputs": [],
   "source": [
    "def put_price(S, K, tau, sigma, r, q):\n",
    "    '''tau: days to expiration'''\n",
    "    d1 = ( np.log(S/(K*np.exp(-r*tau/365))) + \n",
    "          (r - q + (sigma**2)/2)*tau/365 )/ (sigma * np.sqrt(tau/365))\n",
    "    d2 = d1 - sigma* np.sqrt(tau/365)\n",
    "    \n",
    "    return (K*np.exp(-r*tau/365)*norm.cdf(-d2)- S*np.exp(-q*tau/365)*norm.cdf(-d1))"
   ]
  },
  {
   "cell_type": "markdown",
   "metadata": {},
   "source": [
    "# BSM prices"
   ]
  },
  {
   "cell_type": "code",
   "execution_count": 8,
   "metadata": {},
   "outputs": [
    {
     "name": "stdout",
     "output_type": "stream",
     "text": [
      "[0.99955084 0.87914643 0.83280848 0.99887917 0.86227796 0.81792276\n",
      " 0.99871246 0.99742061 0.8442423  0.80254719 0.930668   0.99711923\n",
      " 0.99449908 0.82510078 0.78672602 0.91207283 0.99391921 0.98907847\n",
      " 0.80492734 0.77050493 0.89043655 0.98819603 0.80244111 0.97972541\n",
      " 0.78380695 0.75393051 0.86571579 0.97850763 0.78164639 0.96466166\n",
      " 0.76183388 0.73704983 0.83795424 0.96315153 0.7600422  0.94193724\n",
      " 0.73910979 0.71990995 0.80728453 0.94028848 0.73772478 0.90972322\n",
      " 0.7157419  0.70255758 0.77392528 0.90745563 0.71432176 0.8666789\n",
      " 0.6918411  0.68503871 0.73817344 0.86472137 0.69087558 0.81230983\n",
      " 0.66752017 0.66739825 0.70039269 0.74721809 0.64289207 0.67316526\n",
      " 0.61806838 0.63192545 0.62044332 0.59456052 0.59365625 0.50989288\n",
      " 0.56826533 0.59646807 0.53772753 0.43255884 0.54497187 0.3497389\n",
      " 0.5189269  0.56132441 0.45592609 0.28540753 0.49707257 0.21634818\n",
      " 0.47077512 0.52675847 0.378287   0.16947236 0.45012548 0.12068038\n",
      " 0.42441864]\n",
      "[0.99941414 0.82214399 0.73335392 0.99856483 0.80051079 0.7140116\n",
      " 0.99835615 0.99675605 0.77782955 0.6944206  0.90840231 0.99638598\n",
      " 0.99320152 0.75421582 0.6746457  0.88567167 0.99250289 0.98672885\n",
      " 0.72979397 0.65474981 0.85971708 0.98568516 0.72681519 0.97576409\n",
      " 0.70469464 0.63479346 0.83060566 0.97434968 0.7021526  0.95842081\n",
      " 0.67905224 0.61483448 0.79850153 0.95669782 0.67698145 0.93271798\n",
      " 0.65300254 0.59492764 0.76366119 0.93086948 0.65142956 0.89691201\n",
      " 0.62668049 0.57512445 0.72642374 0.89441351 0.62509541 0.84988178\n",
      " 0.60021819 0.55547293 0.6871969  0.84776108 0.5991586  0.79147169\n",
      " 0.57374311 0.53601754 0.64643982 0.72269259 0.54737663 0.64571168\n",
      " 0.52123272 0.49785475 0.56231507 0.56528805 0.49592948 0.48002069\n",
      " 0.47002607 0.46091887 0.47803194 0.40331911 0.44662368 0.32242533\n",
      " 0.4208563  0.42543569 0.39723654 0.26051663 0.39955391 0.19503569\n",
      " 0.37430019 0.39157716 0.32283464 0.15123421 0.35475725 0.10629149\n",
      " 0.33077794]\n",
      "4369.750807930921\n"
     ]
    },
    {
     "data": {
      "text/html": [
       "<div>\n",
       "<style scoped>\n",
       "    .dataframe tbody tr th:only-of-type {\n",
       "        vertical-align: middle;\n",
       "    }\n",
       "\n",
       "    .dataframe tbody tr th {\n",
       "        vertical-align: top;\n",
       "    }\n",
       "\n",
       "    .dataframe thead th {\n",
       "        text-align: right;\n",
       "    }\n",
       "</style>\n",
       "<table border=\"1\" class=\"dataframe\">\n",
       "  <thead>\n",
       "    <tr style=\"text-align: right;\">\n",
       "      <th></th>\n",
       "      <th>bsm_price</th>\n",
       "      <th>option_price</th>\n",
       "    </tr>\n",
       "  </thead>\n",
       "  <tbody>\n",
       "    <tr>\n",
       "      <td>0</td>\n",
       "      <td>694.460317</td>\n",
       "      <td>0.24680</td>\n",
       "    </tr>\n",
       "    <tr>\n",
       "      <td>2</td>\n",
       "      <td>766.130047</td>\n",
       "      <td>0.33875</td>\n",
       "    </tr>\n",
       "    <tr>\n",
       "      <td>4</td>\n",
       "      <td>850.425159</td>\n",
       "      <td>0.38185</td>\n",
       "    </tr>\n",
       "    <tr>\n",
       "      <td>6</td>\n",
       "      <td>644.542020</td>\n",
       "      <td>0.20320</td>\n",
       "    </tr>\n",
       "    <tr>\n",
       "      <td>8</td>\n",
       "      <td>726.230328</td>\n",
       "      <td>0.29935</td>\n",
       "    </tr>\n",
       "  </tbody>\n",
       "</table>\n",
       "</div>"
      ],
      "text/plain": [
       "    bsm_price  option_price\n",
       "0  694.460317       0.24680\n",
       "2  766.130047       0.33875\n",
       "4  850.425159       0.38185\n",
       "6  644.542020       0.20320\n",
       "8  726.230328       0.29935"
      ]
     },
     "execution_count": 8,
     "metadata": {},
     "output_type": "execute_result"
    }
   ],
   "source": [
    "# BSM call prices\n",
    "dfc = df[df['cp_flag']=='C']\n",
    "dfc['bsm_price'] = call_price(dfc['S'], dfc['K'],\n",
    "                              dfc['days_to_expiration'], dfc['impl_volatility'],\n",
    "                             dfc['r'], dfc['q'])\n",
    "\n",
    "## Check BSM prices are closed to those reported\n",
    "print(np.sqrt(np.sum((dfc['bsm_price'] - dfc['option_price'])**2)))\n",
    "dfc[['bsm_price', 'option_price']].head(5)"
   ]
  },
  {
   "cell_type": "code",
   "execution_count": 9,
   "metadata": {},
   "outputs": [
    {
     "name": "stdout",
     "output_type": "stream",
     "text": [
      "1871.9438921467752\n"
     ]
    },
    {
     "data": {
      "text/html": [
       "<div>\n",
       "<style scoped>\n",
       "    .dataframe tbody tr th:only-of-type {\n",
       "        vertical-align: middle;\n",
       "    }\n",
       "\n",
       "    .dataframe tbody tr th {\n",
       "        vertical-align: top;\n",
       "    }\n",
       "\n",
       "    .dataframe thead th {\n",
       "        text-align: right;\n",
       "    }\n",
       "</style>\n",
       "<table border=\"1\" class=\"dataframe\">\n",
       "  <thead>\n",
       "    <tr style=\"text-align: right;\">\n",
       "      <th></th>\n",
       "      <th>bsm_price</th>\n",
       "      <th>option_price</th>\n",
       "    </tr>\n",
       "  </thead>\n",
       "  <tbody>\n",
       "    <tr>\n",
       "      <td>1</td>\n",
       "      <td>0.029630</td>\n",
       "      <td>0.01380</td>\n",
       "    </tr>\n",
       "    <tr>\n",
       "      <td>3</td>\n",
       "      <td>55.630833</td>\n",
       "      <td>0.08880</td>\n",
       "    </tr>\n",
       "    <tr>\n",
       "      <td>5</td>\n",
       "      <td>123.781964</td>\n",
       "      <td>0.11865</td>\n",
       "    </tr>\n",
       "    <tr>\n",
       "      <td>7</td>\n",
       "      <td>0.078720</td>\n",
       "      <td>0.01785</td>\n",
       "    </tr>\n",
       "    <tr>\n",
       "      <td>9</td>\n",
       "      <td>65.377129</td>\n",
       "      <td>0.10675</td>\n",
       "    </tr>\n",
       "  </tbody>\n",
       "</table>\n",
       "</div>"
      ],
      "text/plain": [
       "    bsm_price  option_price\n",
       "1    0.029630       0.01380\n",
       "3   55.630833       0.08880\n",
       "5  123.781964       0.11865\n",
       "7    0.078720       0.01785\n",
       "9   65.377129       0.10675"
      ]
     },
     "execution_count": 9,
     "metadata": {},
     "output_type": "execute_result"
    }
   ],
   "source": [
    "# BSM put prices\n",
    "dfp = df[df['cp_flag']=='P']\n",
    "dfp['bsm_price'] = put_price(dfp['S'], dfp['K'],\n",
    "                              dfp['days_to_expiration'], dfp['impl_volatility'],\n",
    "                             dfp['r'], dfp['q'])\n",
    "\n",
    "## Check BSM prices are closed to those reported\n",
    "print(np.sqrt(np.sum((dfp['bsm_price'] - dfp['option_price'])**2)))\n",
    "dfp[['bsm_price', 'option_price']].head(5)"
   ]
  },
  {
   "cell_type": "code",
   "execution_count": 10,
   "metadata": {},
   "outputs": [
    {
     "name": "stdout",
     "output_type": "stream",
     "text": [
      "[0.99955084 0.99955084 0.87914643 0.87914643 0.83280848 0.83280848\n",
      " 0.99887917 0.99887917 0.86227796 0.86227796 0.81792276 0.81792276\n",
      " 0.99871246 0.99871246 0.99742061 0.99742061 0.8442423  0.8442423\n",
      " 0.80254719 0.80254719 0.930668   0.930668   0.99711923 0.99711923\n",
      " 0.99449908 0.99449908 0.82510078 0.82510078 0.78672602 0.78672602\n",
      " 0.91207283 0.91207283 0.99391921 0.99391921 0.98907847 0.98907847\n",
      " 0.80492734 0.80492734 0.77050493 0.77050493 0.89043655 0.89043655\n",
      " 0.98819603 0.98819603 0.80244111 0.80244111 0.97972541 0.97972541\n",
      " 0.78380695 0.78380695 0.75393051 0.75393051 0.86571579 0.86571579\n",
      " 0.97850763 0.97850763 0.78164639 0.78164639 0.96466166 0.96466166\n",
      " 0.76183388 0.76183388 0.73704983 0.73704983 0.83795424 0.83795424\n",
      " 0.96315153 0.96315153 0.7600422  0.7600422  0.94193724 0.94193724\n",
      " 0.73910979 0.73910979 0.71990995 0.71990995 0.80728453 0.80728453\n",
      " 0.94028848 0.94028848 0.73772478 0.73772478 0.90972322 0.90972322\n",
      " 0.7157419  0.7157419  0.70255758 0.70255758 0.77392528 0.77392528\n",
      " 0.90745563 0.90745563 0.71432176 0.71432176 0.8666789  0.8666789\n",
      " 0.6918411  0.6918411  0.68503871 0.68503871 0.73817344 0.73817344\n",
      " 0.86472137 0.86472137 0.69087558 0.69087558 0.81230983 0.81230983\n",
      " 0.66752017 0.66752017 0.66739825 0.66739825 0.70039269 0.70039269\n",
      " 0.74721809 0.74721809 0.64289207 0.64289207 0.67316526 0.67316526\n",
      " 0.61806838 0.61806838 0.63192545 0.63192545 0.62044332 0.62044332\n",
      " 0.59456052 0.59456052 0.59365625 0.59365625 0.50989288 0.50989288\n",
      " 0.56826533 0.56826533 0.59646807 0.59646807 0.53772753 0.53772753\n",
      " 0.43255884 0.43255884 0.54497187 0.54497187 0.3497389  0.3497389\n",
      " 0.5189269  0.5189269  0.56132441 0.56132441 0.45592609 0.45592609\n",
      " 0.28540753 0.28540753 0.49707257 0.49707257 0.21634818 0.21634818\n",
      " 0.47077512 0.47077512 0.52675847 0.52675847 0.378287   0.378287\n",
      " 0.16947236 0.16947236 0.45012548 0.45012548 0.12068038 0.12068038\n",
      " 0.42441864 0.42441864        nan        nan]\n",
      "[0.99941414 0.99941414 0.82214399 0.82214399 0.73335392 0.73335392\n",
      " 0.99856483 0.99856483 0.80051079 0.80051079 0.7140116  0.7140116\n",
      " 0.99835615 0.99835615 0.99675605 0.99675605 0.77782955 0.77782955\n",
      " 0.6944206  0.6944206  0.90840231 0.90840231 0.99638598 0.99638598\n",
      " 0.99320152 0.99320152 0.75421582 0.75421582 0.6746457  0.6746457\n",
      " 0.88567167 0.88567167 0.99250289 0.99250289 0.98672885 0.98672885\n",
      " 0.72979397 0.72979397 0.65474981 0.65474981 0.85971708 0.85971708\n",
      " 0.98568516 0.98568516 0.72681519 0.72681519 0.97576409 0.97576409\n",
      " 0.70469464 0.70469464 0.63479346 0.63479346 0.83060566 0.83060566\n",
      " 0.97434968 0.97434968 0.7021526  0.7021526  0.95842081 0.95842081\n",
      " 0.67905224 0.67905224 0.61483448 0.61483448 0.79850153 0.79850153\n",
      " 0.95669782 0.95669782 0.67698145 0.67698145 0.93271798 0.93271798\n",
      " 0.65300254 0.65300254 0.59492764 0.59492764 0.76366119 0.76366119\n",
      " 0.93086948 0.93086948 0.65142956 0.65142956 0.89691201 0.89691201\n",
      " 0.62668049 0.62668049 0.57512445 0.57512445 0.72642374 0.72642374\n",
      " 0.89441351 0.89441351 0.62509541 0.62509541 0.84988178 0.84988178\n",
      " 0.60021819 0.60021819 0.55547293 0.55547293 0.6871969  0.6871969\n",
      " 0.84776108 0.84776108 0.5991586  0.5991586  0.79147169 0.79147169\n",
      " 0.57374311 0.57374311 0.53601754 0.53601754 0.64643982 0.64643982\n",
      " 0.72269259 0.72269259 0.54737663 0.54737663 0.64571168 0.64571168\n",
      " 0.52123272 0.52123272 0.49785475 0.49785475 0.56231507 0.56231507\n",
      " 0.56528805 0.56528805 0.49592948 0.49592948 0.48002069 0.48002069\n",
      " 0.47002607 0.47002607 0.46091887 0.46091887 0.47803194 0.47803194\n",
      " 0.40331911 0.40331911 0.44662368 0.44662368 0.32242533 0.32242533\n",
      " 0.4208563  0.4208563  0.42543569 0.42543569 0.39723654 0.39723654\n",
      " 0.26051663 0.26051663 0.39955391 0.39955391 0.19503569 0.19503569\n",
      " 0.37430019 0.37430019 0.39157716 0.39157716 0.32283464 0.32283464\n",
      " 0.15123421 0.15123421 0.35475725 0.35475725 0.10629149 0.10629149\n",
      " 0.33077794 0.33077794        nan        nan]\n"
     ]
    }
   ],
   "source": [
    "df['bsm_price'] = np.where(df['cp_flag']=='C', call_price(df['S'], df['K'],\n",
    "                              df['days_to_expiration'], df['impl_volatility'],\n",
    "                             df['r'], df['q']),\n",
    "                            put_price(df['S'], df['K'],\n",
    "                              df['days_to_expiration'], df['impl_volatility'],\n",
    "                             df['r'], df['q']))"
   ]
  },
  {
   "cell_type": "markdown",
   "metadata": {},
   "source": [
    "# Interpolate Implied Volatilities"
   ]
  },
  {
   "cell_type": "code",
   "execution_count": 11,
   "metadata": {},
   "outputs": [],
   "source": [
    "dates = df.date.value_counts().sort_index().index"
   ]
  },
  {
   "cell_type": "code",
   "execution_count": 12,
   "metadata": {},
   "outputs": [],
   "source": [
    "def rnd(date):\n",
    "    \n",
    "    df_date = df[df['date']==date][['K', 'impl_volatility', \n",
    "                                 'S', 'cp_flag', 'option_price', 'bsm_price',\n",
    "                                'days_to_expiration', 'r', 'q']]\n",
    "    \n",
    "    df_date = df_date.sort_values('K')\n",
    "    df_date = df_date.drop_duplicates('K')\n",
    "    \n",
    "    from scipy.interpolate import UnivariateSpline\n",
    "    x = df_date['K'].values\n",
    "    y = df_date['impl_volatility'].values\n",
    "    us = UnivariateSpline(x, y, k=4, s=len(x))\n",
    "\n",
    "    xs = np.arange(x[0], x[-1], 0.1)\n",
    "    ys = us(xs)\n",
    "\n",
    "    df_int = pd.DataFrame({'K':xs, 'impl_volatility':ys})\n",
    "    df_int['r'] = df_date['r'].mean()\n",
    "    df_int['q'] = df_date['q'].mean()\n",
    "    df_int['tau'] = df_date['days_to_expiration'].mean()\n",
    "    df_int['S'] = df_date['S'].mean()\n",
    "    df_int['cp_flag'] = np.where(df_int['K']<df_int['S'], 'P', 'C')\n",
    "\n",
    "    df_int['bsm_price'] = call_price(df_int['S'], \n",
    "                        df_int['K'],\n",
    "                        df_int['tau'], df_int['impl_volatility'],\n",
    "                        df_int['r'], df_int['q'])\n",
    "    \n",
    "    # Estimate density\n",
    "    df_int['l_bsm_price'] = df_int['bsm_price'].shift(1)\n",
    "    df_int['f_bsm_price'] = df_int['bsm_price'].shift(-1)\n",
    "\n",
    "    df_int['l_K'] = df_int['K'].shift(1)\n",
    "    df_int['f_K'] = df_int['K'].shift(-1)\n",
    "\n",
    "    df_int['density'] = np.exp(df_int['r']*df_int['tau'])*(df_int['f_bsm_price'] - \n",
    "         2*df_int['bsm_price'] + df_int['l_bsm_price'])/((df_int['f_K']\n",
    "        -df_int['K'])*(df_int['K'] - df_int['l_K']))\n",
    "    \n",
    "    df_int = df_int[df_int['density'].isnull()==False]\n",
    "\n",
    "    df_int['moneyness'] = round(df_int['K']/df_int['S'],2)\n",
    "    df_int['f_density'] = df_int['density'].shift(-1)\n",
    "    \n",
    "    df_int['cumulative'] = np.exp(df_int['r']*df_int['tau'])*(df_int['f_bsm_price']-df_int[\n",
    "        'l_bsm_price'])/(df_int['f_K'] - df_int['l_K']) + 1\n",
    "    \n",
    "    return df_int"
   ]
  },
  {
   "cell_type": "code",
   "execution_count": 13,
   "metadata": {},
   "outputs": [],
   "source": [
    "from scipy.optimize import fsolve\n",
    "from scipy.optimize import leastsq\n",
    "\n",
    "def equations(p, *con):\n",
    "    mu, sigma, eta = p\n",
    "    s1, s2, s3, c1, c2, c3 = con\n",
    "    return (np.exp(-(1+eta*((s1-mu)/sigma))**(-1/eta))-c1, \n",
    "            (np.exp(1+eta)**((-1/eta)-1))*np.exp(-(1+eta*((s2-mu)/sigma))**(-1/eta))-c2,\n",
    "           (np.exp(1+eta)**((-1/eta)-1))*np.exp(-(1+eta*((s3-mu)/sigma))**(-1/eta))-c3)\n",
    "\n",
    "def GEV(st, mu, sigma, eta):\n",
    "    return (np.exp(1+eta)**((-1/eta)-1))*np.exp(-(1+eta*((st-mu)/sigma))**(-1/eta))"
   ]
  },
  {
   "cell_type": "code",
   "execution_count": 14,
   "metadata": {},
   "outputs": [
    {
     "ename": "error",
     "evalue": "(m>k) failed for hidden m: fpcurf0:m=1",
     "output_type": "error",
     "traceback": [
      "\u001b[1;31m---------------------------------------------------------------------------\u001b[0m",
      "\u001b[1;31merror\u001b[0m                                     Traceback (most recent call last)",
      "\u001b[1;32m<ipython-input-14-6d7f249c196b>\u001b[0m in \u001b[0;36m<module>\u001b[1;34m\u001b[0m\n\u001b[0;32m      1\u001b[0m \u001b[0mdate\u001b[0m \u001b[1;33m=\u001b[0m \u001b[0mdates\u001b[0m\u001b[1;33m[\u001b[0m\u001b[1;36m1\u001b[0m\u001b[1;33m]\u001b[0m\u001b[1;33m\u001b[0m\u001b[1;33m\u001b[0m\u001b[0m\n\u001b[1;32m----> 2\u001b[1;33m \u001b[0mdf_int\u001b[0m \u001b[1;33m=\u001b[0m \u001b[0mrnd\u001b[0m\u001b[1;33m(\u001b[0m\u001b[0mdate\u001b[0m\u001b[1;33m)\u001b[0m\u001b[1;33m\u001b[0m\u001b[1;33m\u001b[0m\u001b[0m\n\u001b[0m",
      "\u001b[1;32m<ipython-input-12-8702895acd83>\u001b[0m in \u001b[0;36mrnd\u001b[1;34m(date)\u001b[0m\n\u001b[0;32m     11\u001b[0m     \u001b[0mx\u001b[0m \u001b[1;33m=\u001b[0m \u001b[0mdf_date\u001b[0m\u001b[1;33m[\u001b[0m\u001b[1;34m'K'\u001b[0m\u001b[1;33m]\u001b[0m\u001b[1;33m.\u001b[0m\u001b[0mvalues\u001b[0m\u001b[1;33m\u001b[0m\u001b[1;33m\u001b[0m\u001b[0m\n\u001b[0;32m     12\u001b[0m     \u001b[0my\u001b[0m \u001b[1;33m=\u001b[0m \u001b[0mdf_date\u001b[0m\u001b[1;33m[\u001b[0m\u001b[1;34m'impl_volatility'\u001b[0m\u001b[1;33m]\u001b[0m\u001b[1;33m.\u001b[0m\u001b[0mvalues\u001b[0m\u001b[1;33m\u001b[0m\u001b[1;33m\u001b[0m\u001b[0m\n\u001b[1;32m---> 13\u001b[1;33m     \u001b[0mus\u001b[0m \u001b[1;33m=\u001b[0m \u001b[0mUnivariateSpline\u001b[0m\u001b[1;33m(\u001b[0m\u001b[0mx\u001b[0m\u001b[1;33m,\u001b[0m \u001b[0my\u001b[0m\u001b[1;33m,\u001b[0m \u001b[0mk\u001b[0m\u001b[1;33m=\u001b[0m\u001b[1;36m4\u001b[0m\u001b[1;33m,\u001b[0m \u001b[0ms\u001b[0m\u001b[1;33m=\u001b[0m\u001b[0mlen\u001b[0m\u001b[1;33m(\u001b[0m\u001b[0mx\u001b[0m\u001b[1;33m)\u001b[0m\u001b[1;33m)\u001b[0m\u001b[1;33m\u001b[0m\u001b[1;33m\u001b[0m\u001b[0m\n\u001b[0m\u001b[0;32m     14\u001b[0m \u001b[1;33m\u001b[0m\u001b[0m\n\u001b[0;32m     15\u001b[0m     \u001b[0mxs\u001b[0m \u001b[1;33m=\u001b[0m \u001b[0mnp\u001b[0m\u001b[1;33m.\u001b[0m\u001b[0marange\u001b[0m\u001b[1;33m(\u001b[0m\u001b[0mx\u001b[0m\u001b[1;33m[\u001b[0m\u001b[1;36m0\u001b[0m\u001b[1;33m]\u001b[0m\u001b[1;33m,\u001b[0m \u001b[0mx\u001b[0m\u001b[1;33m[\u001b[0m\u001b[1;33m-\u001b[0m\u001b[1;36m1\u001b[0m\u001b[1;33m]\u001b[0m\u001b[1;33m,\u001b[0m \u001b[1;36m0.1\u001b[0m\u001b[1;33m)\u001b[0m\u001b[1;33m\u001b[0m\u001b[1;33m\u001b[0m\u001b[0m\n",
      "\u001b[1;32mD:\\Anaconda\\wishitsuccess\\lib\\site-packages\\scipy\\interpolate\\fitpack2.py\u001b[0m in \u001b[0;36m__init__\u001b[1;34m(self, x, y, w, bbox, k, s, ext, check_finite)\u001b[0m\n\u001b[0;32m    184\u001b[0m \u001b[1;33m\u001b[0m\u001b[0m\n\u001b[0;32m    185\u001b[0m         data = dfitpack.fpcurf0(x, y, k, w=w, xb=bbox[0],\n\u001b[1;32m--> 186\u001b[1;33m                                 xe=bbox[1], s=s)\n\u001b[0m\u001b[0;32m    187\u001b[0m         \u001b[1;32mif\u001b[0m \u001b[0mdata\u001b[0m\u001b[1;33m[\u001b[0m\u001b[1;33m-\u001b[0m\u001b[1;36m1\u001b[0m\u001b[1;33m]\u001b[0m \u001b[1;33m==\u001b[0m \u001b[1;36m1\u001b[0m\u001b[1;33m:\u001b[0m\u001b[1;33m\u001b[0m\u001b[1;33m\u001b[0m\u001b[0m\n\u001b[0;32m    188\u001b[0m             \u001b[1;31m# nest too small, setting to maximum bound\u001b[0m\u001b[1;33m\u001b[0m\u001b[1;33m\u001b[0m\u001b[1;33m\u001b[0m\u001b[0m\n",
      "\u001b[1;31merror\u001b[0m: (m>k) failed for hidden m: fpcurf0:m=1"
     ]
    }
   ],
   "source": [
    "date = dates[1]\n",
    "df_int = rnd(date)"
   ]
  },
  {
   "cell_type": "code",
   "execution_count": null,
   "metadata": {},
   "outputs": [],
   "source": [
    "date"
   ]
  },
  {
   "cell_type": "code",
   "execution_count": null,
   "metadata": {},
   "outputs": [],
   "source": [
    "df_int.head(2)"
   ]
  },
  {
   "cell_type": "code",
   "execution_count": null,
   "metadata": {},
   "outputs": [],
   "source": [
    "## RIGHT-TAIL\n",
    "\n",
    "# Set conditions to merge GEV distribution to RND.\n",
    "# 1: probability of strike price lower than s1 equal to c1.\n",
    "# 2: density at s2 equal to c2.\n",
    "# 3: density at s3 equal to c3.\n",
    "\n",
    "c1, s1 = 1-df_int.iloc[-2,:]['cumulative'], df_int.iloc[-2,:]['K']\n",
    "c2, s2 = df_int.iloc[-2,:]['density'], df_int.iloc[-2,:]['K']\n",
    "c3, s3 = df_int.iloc[-3,:]['density'], df_int.iloc[-3,:]['K']\n",
    "\n",
    "con = (s1, s2, s3, c1, c2, c3)\n",
    "con = [round(i,6) for i in con]\n",
    "con = tuple(con)\n",
    "\n",
    "init, n = leastsq(equations, (1, 1, 0.1), args=con)\n",
    "mu, sigma, eta =  fsolve(equations, init, args=con)\n",
    "right_tail = [GEV(i, mu, sigma, eta ) for i in np.arange(s1, 2000, 0.1)]\n",
    "\n",
    "rt = pd.DataFrame({'K':np.arange(s1, 2000, 0.1),'density':right_tail})"
   ]
  },
  {
   "cell_type": "code",
   "execution_count": null,
   "metadata": {},
   "outputs": [],
   "source": [
    "## LEFT-TAIL\n",
    "\n",
    "# Set conditions to merge GEV distribution to RND.\n",
    "# 1: probability of strike price lower than s1 equal to c1.\n",
    "# 2: density at s2 equal to c2.\n",
    "# 3: density at s3 equal to c3.\n",
    "\n",
    "c1, s1 = 1+df_int.iloc[1,:]['cumulative'], df_int.iloc[1,:]['K']\n",
    "c2, s2 = df_int.iloc[1,:]['density'], df_int.iloc[1,:]['K']\n",
    "c3, s3 = df_int.iloc[2,:]['density'], df_int.iloc[2,:]['K']\n",
    "\n",
    "con = (s1, s2, s3, c1, c2, c3)\n",
    "con = [round(i,6) for i in con]\n",
    "con = tuple(con)\n",
    "\n",
    "init, n = leastsq(equations, (0.5, 0.5, 0.5), args=con)\n",
    "mu, sigma, eta =  fsolve(equations, init, args=con)\n",
    "left_tail = [GEV(i, mu, sigma, eta ) for i in np.arange(0.1, s1, 0.1)]\n",
    "\n",
    "lt = pd.DataFrame({'K':np.arange(0.1, s1, 0.1),'density':left_tail})"
   ]
  },
  {
   "cell_type": "code",
   "execution_count": null,
   "metadata": {},
   "outputs": [],
   "source": [
    "den = pd.concat([lt, df_int[['K', 'density']], rt])"
   ]
  },
  {
   "cell_type": "code",
   "execution_count": null,
   "metadata": {},
   "outputs": [],
   "source": [
    "fig, ax = plt.subplots(figsize=(10,10/1.6))\n",
    "ax.plot(den['K'], den['density'], label = 'S&P 500 Risk-Neutral Density', color=blue)\n",
    "\n",
    "# Plot lognormal density for stock prices\n",
    "r_mu = np.dot(den.K.values, den.density.values)/den.density.values.sum()\n",
    "r_var = np.dot((den.K.values- r_mu)**2, den.density.values)/den.density.values.sum()\n",
    "\n",
    "ln_r_mu = np.log(r_mu**2/(r_var + r_mu**2)**0.5)\n",
    "ln_r_var = np.log(1+ (r_var/r_mu**2))\n",
    "\n",
    "lognorm_prices = np.random.lognormal(ln_r_mu, np.sqrt(ln_r_var), 1000000)\n",
    "sns.distplot(lognorm_prices, hist=False, ax=ax, label = 'Lognormal Distribution', color=red)\n",
    "\n",
    "\n",
    "# Add lognormal tails\n",
    "ln_lt = den[den['K']<=np.min(lognorm_prices)]['K'].values\n",
    "ax.plot(ln_lt, [0 for i in ln_lt], color=red)\n",
    "\n",
    "ln_rt = den[den['K']>=np.max(lognorm_prices)]['K'].values\n",
    "ax.plot(ln_rt, [0 for i in ln_rt], color=red)\n",
    "\n",
    "\n",
    "ax.set_xlim(185,1500)\n",
    "ax.set_ylim(-0.0005,0.0069)\n",
    "\n",
    "plt.subplots_adjust(left=None, bottom=None, right=None, top=0.88,\n",
    "                wspace=None, hspace=None)\n",
    "\n",
    "plt.show()"
   ]
  }
 ],
 "metadata": {
  "kernelspec": {
   "display_name": "Python 3",
   "language": "python",
   "name": "python3"
  },
  "language_info": {
   "codemirror_mode": {
    "name": "ipython",
    "version": 3
   },
   "file_extension": ".py",
   "mimetype": "text/x-python",
   "name": "python",
   "nbconvert_exporter": "python",
   "pygments_lexer": "ipython3",
   "version": "3.7.4"
  }
 },
 "nbformat": 4,
 "nbformat_minor": 2
}
